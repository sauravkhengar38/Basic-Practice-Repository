{
 "cells": [
  {
   "cell_type": "markdown",
   "metadata": {},
   "source": [
    "#For Loop"
   ]
  },
  {
   "cell_type": "code",
   "execution_count": 3,
   "metadata": {},
   "outputs": [
    {
     "name": "stdout",
     "output_type": "stream",
     "text": [
      "Course 1: DataScience\n",
      "Course 2: DataAnalytics\n",
      "Course 3: Python\n",
      "Course 4: JavaScript\n"
     ]
    }
   ],
   "source": [
    "courses = [\"DataScience\", \"DataAnalytics\", \"Python\", \"JavaScript\"]\n",
    "count = 1\n",
    "\n",
    "for course in courses:\n",
    "    print(f\"Course {count}: {course}\")\n",
    "    count += 1"
   ]
  },
  {
   "cell_type": "code",
   "execution_count": 7,
   "metadata": {},
   "outputs": [
    {
     "name": "stdout",
     "output_type": "stream",
     "text": [
      "Course 1:DataScience\n",
      "Course 2:BackendDevelopment\n",
      "Course 3:Flutter\n"
     ]
    }
   ],
   "source": [
    "l=['DataScience','BackendDevelopment','Flutter']\n",
    "count=1\n",
    "\n",
    "for i in l:\n",
    "    print(f\"Course {count}:{i}\")\n",
    "    count+=1"
   ]
  },
  {
   "cell_type": "code",
   "execution_count": 12,
   "metadata": {},
   "outputs": [
    {
     "name": "stdout",
     "output_type": "stream",
     "text": [
      "1) Employee Mehul is Part of Company\n",
      "2) Employee Pradip is Part of Company\n",
      "3) Employee Mahesh is Part of Company\n",
      "4) Employee Rahul is Part of Company\n"
     ]
    }
   ],
   "source": [
    "Emp=['Mehul','Pradip','Mahesh','Rahul']\n",
    "count =1\n",
    "\n",
    "for i in Emp:\n",
    "    print(f'{count}) Employee {i} is Part of Company')\n",
    "    count+=1"
   ]
  },
  {
   "cell_type": "code",
   "execution_count": 38,
   "metadata": {},
   "outputs": [
    {
     "name": "stdout",
     "output_type": "stream",
     "text": [
      "1st\n",
      "2nd\n",
      "3rd\n",
      "4th\n",
      "5th\n",
      "6th\n",
      "7th\n",
      "8th\n",
      "9th\n",
      "10th\n",
      "3 is multiple of 3\n",
      "6 is multiple of 3\n",
      "9 is multiple of 3\n",
      "12 is multiple of 3\n",
      "15 is multiple of 3\n",
      "18 is multiple of 3\n",
      "21 is multiple of 3\n",
      "24 is multiple of 3\n",
      "27 is multiple of 3\n",
      "30 is multiple of 3\n"
     ]
    },
    {
     "ename": "TypeError",
     "evalue": "list indices must be integers or slices, not str",
     "output_type": "error",
     "traceback": [
      "\u001b[1;31m---------------------------------------------------------------------------\u001b[0m",
      "\u001b[1;31mTypeError\u001b[0m                                 Traceback (most recent call last)",
      "Cell \u001b[1;32mIn[38], line 9\u001b[0m\n\u001b[0;32m      6\u001b[0m \u001b[38;5;28;01mfor\u001b[39;00m n \u001b[38;5;129;01min\u001b[39;00m \u001b[38;5;28mrange\u001b[39m(\u001b[38;5;241m3\u001b[39m,\u001b[38;5;241m33\u001b[39m,\u001b[38;5;241m3\u001b[39m):\n\u001b[0;32m      7\u001b[0m     \u001b[38;5;28mprint\u001b[39m(\u001b[38;5;124mf\u001b[39m\u001b[38;5;124m'\u001b[39m\u001b[38;5;132;01m{\u001b[39;00mn\u001b[38;5;132;01m}\u001b[39;00m\u001b[38;5;124m is multiple of 3\u001b[39m\u001b[38;5;124m'\u001b[39m)\n\u001b[1;32m----> 9\u001b[0m \u001b[38;5;28mprint\u001b[39m(\u001b[38;5;124mf\u001b[39m\u001b[38;5;124m'\u001b[39m\u001b[38;5;132;01m{\u001b[39;00mn\u001b[38;5;132;01m}\u001b[39;00m\u001b[38;5;124m is \u001b[39m\u001b[38;5;132;01m{\u001b[39;00m\u001b[43ml\u001b[49m\u001b[43m[\u001b[49m\u001b[43mi\u001b[49m\u001b[43m]\u001b[49m\u001b[38;5;132;01m}\u001b[39;00m\u001b[38;5;124m multiple of 3\u001b[39m\u001b[38;5;124m'\u001b[39m)\n",
      "\u001b[1;31mTypeError\u001b[0m: list indices must be integers or slices, not str"
     ]
    }
   ],
   "source": [
    "l=['1st','2nd','3rd','4th','5th','6th','7th','8th','9th','10th']\n",
    "\n",
    "for i in l:\n",
    "    print(i)\n",
    "\n",
    "for n in range(3,33,3):\n",
    "    print(f'{n} is multiple of 3')\n",
    "\n",
    "print(f'{n} is {i} multiple of 3')"
   ]
  },
  {
   "cell_type": "code",
   "execution_count": 41,
   "metadata": {},
   "outputs": [
    {
     "name": "stdout",
     "output_type": "stream",
     "text": [
      "3 is the 1st multiple of 3\n",
      "6 is the 2nd multiple of 3\n",
      "9 is the 3rd multiple of 3\n",
      "12 is the 4th multiple of 3\n",
      "15 is the 5th multiple of 3\n",
      "18 is the 6th multiple of 3\n",
      "21 is the 7th multiple of 3\n",
      "24 is the 8th multiple of 3\n",
      "27 is the 9th multiple of 3\n",
      "30 is the 10th multiple of 3\n"
     ]
    }
   ],
   "source": [
    "l=['1st','2nd','3rd','4th','5th','6th','7th','8th','9th','10th']\n",
    "\n",
    "for i, n in enumerate(range(3, 33, 3)):  \n",
    "    print(f'{n} is the {l[i]} multiple of 3')\n"
   ]
  },
  {
   "cell_type": "markdown",
   "metadata": {},
   "source": [
    "OOPS"
   ]
  },
  {
   "cell_type": "code",
   "execution_count": 29,
   "metadata": {},
   "outputs": [],
   "source": [
    "class Man:\n",
    "    def Papa(self):\n",
    "        print(\"Family Care\")\n",
    "    def Employee(self):\n",
    "        print(\"Manage Company\")\n",
    "    def Son(self):\n",
    "        print(\"Care Parents\")\n",
    "    def Husband(self):\n",
    "        print(\"Care Wifey's\")"
   ]
  },
  {
   "cell_type": "code",
   "execution_count": 33,
   "metadata": {},
   "outputs": [],
   "source": [
    "a = Man()"
   ]
  },
  {
   "cell_type": "code",
   "execution_count": 34,
   "metadata": {},
   "outputs": [
    {
     "name": "stdout",
     "output_type": "stream",
     "text": [
      "Care Wifey's\n"
     ]
    }
   ],
   "source": [
    "a.Husband()"
   ]
  },
  {
   "cell_type": "code",
   "execution_count": 35,
   "metadata": {},
   "outputs": [
    {
     "name": "stdout",
     "output_type": "stream",
     "text": [
      "Care Parents\n"
     ]
    }
   ],
   "source": [
    "a.Son()"
   ]
  },
  {
   "cell_type": "code",
   "execution_count": 38,
   "metadata": {},
   "outputs": [
    {
     "name": "stdout",
     "output_type": "stream",
     "text": [
      "Family Care\n"
     ]
    }
   ],
   "source": [
    "a.Papa()"
   ]
  },
  {
   "cell_type": "code",
   "execution_count": 37,
   "metadata": {},
   "outputs": [
    {
     "name": "stdout",
     "output_type": "stream",
     "text": [
      "Manage Company\n"
     ]
    }
   ],
   "source": [
    "a.Employee()"
   ]
  },
  {
   "cell_type": "code",
   "execution_count": 41,
   "metadata": {},
   "outputs": [],
   "source": [
    "class Krishn:\n",
    "    def Yodhha(self):\n",
    "        print('He Killed many Devils')\n",
    "    def Artist(self):\n",
    "        print('He Plays flute')\n",
    "    def Dancer(self):\n",
    "        print(\"He plays Garba very well\")"
   ]
  },
  {
   "cell_type": "code",
   "execution_count": 43,
   "metadata": {},
   "outputs": [
    {
     "name": "stdout",
     "output_type": "stream",
     "text": [
      "He plays Garba very well\n"
     ]
    }
   ],
   "source": [
    "# Krishn.Yodhha()\n",
    "a=Krishn()\n",
    "a.Dancer()"
   ]
  },
  {
   "cell_type": "code",
   "execution_count": 76,
   "metadata": {},
   "outputs": [],
   "source": [
    "class num:\n",
    "    l= [1,2,3,4,5,6,7,8,9,10]\n",
    "    l1=[]\n",
    "    l2=[]\n",
    "\n",
    "def exodd(self,l):\n",
    "    for i in l:\n",
    "        if i%2==0:\n",
    "            l1.append(i)\n",
    "        return l1\n",
    "\n",
    "def exeve(self,l):\n",
    "    for i in l:\n",
    "        if i%2!=0:\n",
    "            l2.append(i)\n",
    "        return l2"
   ]
  },
  {
   "cell_type": "code",
   "execution_count": 77,
   "metadata": {},
   "outputs": [],
   "source": [
    "a=num()"
   ]
  },
  {
   "cell_type": "code",
   "execution_count": 79,
   "metadata": {},
   "outputs": [
    {
     "data": {
      "text/plain": [
       "[1, 2, 3, 4, 5, 6, 7, 8, 9, 10]"
      ]
     },
     "execution_count": 79,
     "metadata": {},
     "output_type": "execute_result"
    }
   ],
   "source": [
    "a.l"
   ]
  },
  {
   "cell_type": "code",
   "execution_count": 80,
   "metadata": {},
   "outputs": [
    {
     "name": "stdout",
     "output_type": "stream",
     "text": [
      "Even Numbers: [2, 4, 6, 8, 10]\n",
      "Odd Numbers: [1, 3, 5, 7, 9]\n"
     ]
    }
   ],
   "source": [
    "class Num:\n",
    "    def __init__(self):\n",
    "        self.l = [1, 2, 3, 4, 5, 6, 7, 8, 9, 10]\n",
    "        self.l1 = []\n",
    "        self.l2 = []\n",
    "\n",
    "    def exodd(self):\n",
    "        self.l1 = [i for i in self.l if i % 2 == 0]\n",
    "        return self.l1\n",
    "\n",
    "    def exeve(self):\n",
    "        self.l2 = [i for i in self.l if i % 2 != 0]\n",
    "        return self.l2\n",
    "\n",
    "# Example Usage:\n",
    "obj = Num()\n",
    "print(\"Even Numbers:\", obj.exodd())  # [2, 4, 6, 8, 10]\n",
    "print(\"Odd Numbers:\", obj.exeve())   # [1, 3, 5, 7, 9]\n"
   ]
  },
  {
   "cell_type": "markdown",
   "metadata": {},
   "source": [
    "#Function"
   ]
  },
  {
   "cell_type": "code",
   "execution_count": 25,
   "metadata": {},
   "outputs": [],
   "source": [
    "def only_numeric(a):\n",
    "    l=[]\n",
    "    for i in a:\n",
    "        if type(i)==int or type(i)==float:\n",
    "            l.append(i)\n",
    "    return l"
   ]
  },
  {
   "cell_type": "code",
   "execution_count": 26,
   "metadata": {},
   "outputs": [
    {
     "data": {
      "text/plain": [
       "[1, 2, 3, 4, 4.8, -2]"
      ]
     },
     "execution_count": 26,
     "metadata": {},
     "output_type": "execute_result"
    }
   ],
   "source": [
    "only_numeric([1,2,3,4,'Sonu',True,4.8,-2])"
   ]
  },
  {
   "cell_type": "code",
   "execution_count": 35,
   "metadata": {},
   "outputs": [],
   "source": [
    "def only_numeric(a):\n",
    "    n=[]\n",
    "    for i in a:\n",
    "\n",
    "        if type(i)==list:\n",
    "            for j in i:\n",
    "                if type(j)==int or type(j)==float:\n",
    "                    n.append(j)\n",
    "        if type(i) == int or type(i)==float:\n",
    "            n.append(i)\n",
    "\n",
    "    return n"
   ]
  },
  {
   "cell_type": "code",
   "execution_count": 36,
   "metadata": {},
   "outputs": [
    {
     "data": {
      "text/plain": [
       "[1, 2, 3, 4, 4.8, -2, 5, 8, 23, 0.25, -12]"
      ]
     },
     "execution_count": 36,
     "metadata": {},
     "output_type": "execute_result"
    }
   ],
   "source": [
    "only_numeric([1,2,3,4,'Sonu',True,4.8,-2,['Rahul','Kriti',5,8,23,0.25,-12]])"
   ]
  }
 ],
 "metadata": {
  "kernelspec": {
   "display_name": "Python 3",
   "language": "python",
   "name": "python3"
  },
  "language_info": {
   "codemirror_mode": {
    "name": "ipython",
    "version": 3
   },
   "file_extension": ".py",
   "mimetype": "text/x-python",
   "name": "python",
   "nbconvert_exporter": "python",
   "pygments_lexer": "ipython3",
   "version": "3.11.4"
  }
 },
 "nbformat": 4,
 "nbformat_minor": 2
}
