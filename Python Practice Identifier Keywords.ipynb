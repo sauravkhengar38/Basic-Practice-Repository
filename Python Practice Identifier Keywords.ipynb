{
 "cells": [
  {
   "cell_type": "markdown",
   "metadata": {},
   "source": [
    "# Python Practice"
   ]
  },
  {
   "cell_type": "code",
   "execution_count": 2,
   "metadata": {},
   "outputs": [],
   "source": [
    "Name = \"Saurav Khengar\"\n",
    "Designation = \"Data Engineer\"\n",
    "Qualification = \"BCA in Data Science\""
   ]
  },
  {
   "cell_type": "code",
   "execution_count": 15,
   "metadata": {},
   "outputs": [
    {
     "name": "stdout",
     "output_type": "stream",
     "text": [
      "My Name is Saurav Khengar\n",
      "My Current Role is Data Engineer\n",
      "I'm Qualified BCA in Data Science\n"
     ]
    }
   ],
   "source": [
    "print(\"My Name is\",Name)\n",
    "print(\"My Current Role is\",Designation)\n",
    "print(\"I\\'m Qualified\",Qualification)"
   ]
  },
  {
   "cell_type": "code",
   "execution_count": 27,
   "metadata": {},
   "outputs": [
    {
     "name": "stdout",
     "output_type": "stream",
     "text": [
      "Saurav Khengar"
     ]
    }
   ],
   "source": [
    "for i in Name:\n",
    "    print(i,end='')"
   ]
  },
  {
   "cell_type": "code",
   "execution_count": 25,
   "metadata": {},
   "outputs": [
    {
     "name": "stdout",
     "output_type": "stream",
     "text": [
      "14\n"
     ]
    }
   ],
   "source": [
    "print(len(Name))"
   ]
  },
  {
   "cell_type": "code",
   "execution_count": 57,
   "metadata": {},
   "outputs": [],
   "source": [
    "sen = \"Sai Ram\"\n",
    "def count():\n",
    "    num =1\n",
    "    while num<=10:\n",
    "        print(sen,num)\n",
    "        num+=1\n"
   ]
  },
  {
   "cell_type": "code",
   "execution_count": 58,
   "metadata": {},
   "outputs": [
    {
     "name": "stdout",
     "output_type": "stream",
     "text": [
      "Sai Ram 1\n",
      "Sai Ram 2\n",
      "Sai Ram 3\n",
      "Sai Ram 4\n",
      "Sai Ram 5\n",
      "Sai Ram 6\n",
      "Sai Ram 7\n",
      "Sai Ram 8\n",
      "Sai Ram 9\n",
      "Sai Ram 10\n"
     ]
    }
   ],
   "source": [
    "count()"
   ]
  },
  {
   "cell_type": "markdown",
   "metadata": {},
   "source": [
    "# 1 3 6 10"
   ]
  },
  {
   "cell_type": "code",
   "execution_count": 7,
   "metadata": {},
   "outputs": [
    {
     "name": "stdout",
     "output_type": "stream",
     "text": [
      "1\n",
      "3\n",
      "6\n",
      "10\n",
      "15\n",
      "21\n",
      "28\n",
      "36\n",
      "45\n",
      "55\n"
     ]
    }
   ],
   "source": [
    "num = int(input(\"Enter your number : \"))\n",
    "sum = 0\n",
    "for i in range(1, num+1):\n",
    "    sum = sum + i\n",
    "    print(sum)"
   ]
  },
  {
   "cell_type": "markdown",
   "metadata": {},
   "source": [
    "# Polidrome"
   ]
  },
  {
   "cell_type": "code",
   "execution_count": 19,
   "metadata": {},
   "outputs": [
    {
     "name": "stdout",
     "output_type": "stream",
     "text": [
      "522 is Not Polidrome term\n"
     ]
    }
   ],
   "source": [
    "s=input(\"Enter Your term:\")\n",
    "if s==s[::-1]:\n",
    "    print(s,\"is Polidrome term\")\n",
    "else:\n",
    "    print(s,\"is Not Polidrome term\")\n"
   ]
  },
  {
   "cell_type": "markdown",
   "metadata": {},
   "source": [
    "# Octal Convertation"
   ]
  },
  {
   "cell_type": "code",
   "execution_count": 22,
   "metadata": {},
   "outputs": [
    {
     "name": "stdout",
     "output_type": "stream",
     "text": [
      "11001\n"
     ]
    }
   ],
   "source": [
    "d=25\n",
    "b=''\n",
    "if d==0:\n",
    "    print('0')\n",
    "while d>0:\n",
    "    remainder = d%2\n",
    "    b= str(remainder)+b\n",
    "    d//=2\n",
    "print(b)"
   ]
  },
  {
   "cell_type": "code",
   "execution_count": 28,
   "metadata": {},
   "outputs": [],
   "source": [
    "a=10\n",
    "b=20"
   ]
  },
  {
   "cell_type": "code",
   "execution_count": 29,
   "metadata": {},
   "outputs": [
    {
     "data": {
      "text/plain": [
       "'b is greater than a'"
      ]
     },
     "execution_count": 29,
     "metadata": {},
     "output_type": "execute_result"
    }
   ],
   "source": [
    "\"Both are equal\" if a == b else \"a is greater than b\" if a > b else \"b is greater than a\""
   ]
  },
  {
   "cell_type": "code",
   "execution_count": 39,
   "metadata": {},
   "outputs": [
    {
     "name": "stdout",
     "output_type": "stream",
     "text": [
      "Odd\n"
     ]
    }
   ],
   "source": [
    "n=25 \n",
    "if n%2==0: \n",
    "    print(\"Even\") \n",
    "else: \n",
    "    print(\"Odd\")"
   ]
  },
  {
   "cell_type": "code",
   "execution_count": 40,
   "metadata": {},
   "outputs": [
    {
     "name": "stdout",
     "output_type": "stream",
     "text": [
      "Odd\n"
     ]
    }
   ],
   "source": [
    "import numpy as np\n",
    "n = 25\n",
    "print(np.where(n % 2 == 0, \"Even\", \"Odd\"))"
   ]
  }
 ],
 "metadata": {
  "kernelspec": {
   "display_name": "Python 3",
   "language": "python",
   "name": "python3"
  },
  "language_info": {
   "codemirror_mode": {
    "name": "ipython",
    "version": 3
   },
   "file_extension": ".py",
   "mimetype": "text/x-python",
   "name": "python",
   "nbconvert_exporter": "python",
   "pygments_lexer": "ipython3",
   "version": "3.11.4"
  }
 },
 "nbformat": 4,
 "nbformat_minor": 2
}
